{
 "cells": [
  {
   "cell_type": "markdown",
   "metadata": {},
   "source": [
    "Create a twitter account.\n",
    "Go to https://apps.twitter.com/ and log in with your twitter credentials.\n",
    "Click \"Create New App\"\n",
    "Fill out the form, agree to the terms, and click \"Create your Twitter application\"\n",
    "In the next page, you'll have your \"consumer key\" and \"consumer secret\", copy these two.\n",
    "Scroll down and click \"Create my access token\", and copy your \"Access token\" and \"Access token secret\".\n",
    "ALL this information need to be filled in below to access tweets that are no later than 7-9 days from the current date."
   ]
  },
  {
   "cell_type": "code",
   "execution_count": null,
   "metadata": {
    "collapsed": true
   },
   "outputs": [],
   "source": [
    "#import libraries\n",
    "import tweepy\n",
    "import numpy as np\n",
    "import pandas as pd"
   ]
  },
  {
   "cell_type": "code",
   "execution_count": null,
   "metadata": {
    "collapsed": true
   },
   "outputs": [],
   "source": [
    "# Authentication code\n",
    "consumer_key= ''\n",
    "consumer_secret= ''\n",
    "\n",
    "access_token=''\n",
    "access_token_secret=''\n",
    "\n",
    "auth = tweepy.OAuthHandler(consumer_key, consumer_secret)\n",
    "auth.set_access_token(access_token, access_token_secret)\n",
    "\n",
    "api = tweepy.API(auth)"
   ]
  },
  {
   "cell_type": "code",
   "execution_count": null,
   "metadata": {
    "collapsed": true
   },
   "outputs": [],
   "source": [
    "#Step 2 - extract relevant tweets \n",
    "\n",
    "#List of candidates\n",
    "candidate_names = ['Trump', 'Hillary']\n",
    "#Hashtag related to the debate\n",
    "name_of_debate = \"firstpresidentialdebate\" \n",
    "#Date of the debate : October 13th\n",
    "since_date = \"2016-09-26\"\n",
    "until_date = \"2016-09-27\"\n",
    "\n",
    "for candidate in candidate_names:\n",
    "    #Get the tweets about the debate and the candidate between the dates\n",
    "    this_candidate_tweets = api.search(q=[name_of_debate, candidate], count=100, since = since_date, until=until_date)\n",
    "    #Save the tweets in csv\n",
    "    with open('%s_tweets.csv' % candidate, 'w') as this_candidate_file:\n",
    "        this_candidate_file.write('tweet\\n')\n",
    "        for tweet in this_candidate_tweets:\n",
    "            this_candidate_file.write('%s\\n' % (tweet.text.encode('utf8')))"
   ]
  },
  {
   "cell_type": "code",
   "execution_count": null,
   "metadata": {
    "collapsed": true
   },
   "outputs": [],
   "source": []
  }
 ],
 "metadata": {
  "kernelspec": {
   "display_name": "Python 3",
   "language": "python",
   "name": "python3"
  },
  "language_info": {
   "codemirror_mode": {
    "name": "ipython",
    "version": 3
   },
   "file_extension": ".py",
   "mimetype": "text/x-python",
   "name": "python",
   "nbconvert_exporter": "python",
   "pygments_lexer": "ipython3",
   "version": "3.6.2"
  }
 },
 "nbformat": 4,
 "nbformat_minor": 2
}
