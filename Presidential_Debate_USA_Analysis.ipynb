{
 "cells": [
  {
   "cell_type": "markdown",
   "metadata": {},
   "source": [
    "## USA Presidential Debate Analysis - Twitter Data"
   ]
  },
  {
   "cell_type": "code",
   "execution_count": 18,
   "metadata": {
    "collapsed": true
   },
   "outputs": [],
   "source": [
    "# importing required libraries\n",
    "import tweepy # to access through twitter API\n",
    "import pandas as pd # To import and export data using different data formats\n",
    "import numpy as np # to manipulate data\n",
    "import json # to import json files\n",
    "import csv # to access CSV files\n",
    "# For plotting and visualization:\n",
    "import matplotlib.pyplot as plt\n",
    "import seaborn as sns\n",
    "%matplotlib inline"
   ]
  },
  {
   "cell_type": "markdown",
   "metadata": {},
   "source": [
    "## Data conversion and import\n",
    "Data imported was in json so converting it into CSV and using those for further analysis. Next few lines helps us achieve this."
   ]
  },
  {
   "cell_type": "code",
   "execution_count": 122,
   "metadata": {
    "collapsed": true
   },
   "outputs": [],
   "source": [
    "tweets = []\n",
    "for line in open('C:\\\\Users\\\\NIRANJAN SOMASANI\\\\Downloads\\\\FirstPresidentialDebateTweets', 'r', encoding='utf-8'):\n",
    "    tweets.append(json.loads(line))"
   ]
  },
  {
   "cell_type": "code",
   "execution_count": 123,
   "metadata": {},
   "outputs": [
    {
     "data": {
      "text/plain": [
       "56"
      ]
     },
     "execution_count": 123,
     "metadata": {},
     "output_type": "execute_result"
    }
   ],
   "source": [
    "csv_out = open('C:\\\\Users\\\\NIRANJAN SOMASANI\\\\Downloads\\\\FirstPresidentialDebateTweets2.csv', 'w', encoding='utf-8') #opens csv file\n",
    "writer = csv.writer(csv_out) #create the csv writer object\n",
    "\n",
    "fields = ['created_at', 'text', 'screen_name', 'followers', 'Likes', 'friends', 'rt'] #field names\n",
    "writer.writerow(fields) #writes field"
   ]
  },
  {
   "cell_type": "code",
   "execution_count": 124,
   "metadata": {
    "collapsed": true
   },
   "outputs": [],
   "source": [
    "for line in tweets:\n",
    " \n",
    "    #writes a row and gets the fields from the json object\n",
    "    #screen_name and followers/friends are found on the second level hence two get methods\n",
    "    writer.writerow([line.get('created_at'),\n",
    "                     line.get('full_text').encode('unicode_escape'), #unicode escape to fix emoji issue\n",
    "                     line.get('user').get('screen_name'),\n",
    "                     line.get('user').get('followers_count'),\n",
    "                     line.get('user').get('favourites_count'),\n",
    "                     line.get('user').get('friends_count'),\n",
    "                     line.get('retweet_count')])\n",
    " \n",
    "csv_out.close()"
   ]
  },
  {
   "cell_type": "code",
   "execution_count": 125,
   "metadata": {
    "collapsed": true
   },
   "outputs": [],
   "source": [
    "tweets = []\n",
    "for line in open('C:\\\\Users\\\\NIRANJAN SOMASANI\\\\Downloads\\\\SecondPresidentialDebateTweets', 'r', encoding='utf-8'):\n",
    "    tweets.append(json.loads(line))"
   ]
  },
  {
   "cell_type": "code",
   "execution_count": 126,
   "metadata": {},
   "outputs": [
    {
     "data": {
      "text/plain": [
       "56"
      ]
     },
     "execution_count": 126,
     "metadata": {},
     "output_type": "execute_result"
    }
   ],
   "source": [
    "csv_out = open('C:\\\\Users\\\\NIRANJAN SOMASANI\\\\Downloads\\\\SecondPresidentialDebateTweets2.csv', 'w', encoding='utf-8') #opens csv file\n",
    "writer = csv.writer(csv_out) #create the csv writer object\n",
    "\n",
    "fields = ['created_at', 'text', 'screen_name', 'followers', 'Likes', 'friends', 'rt'] #field names\n",
    "writer.writerow(fields) #writes field"
   ]
  },
  {
   "cell_type": "code",
   "execution_count": 127,
   "metadata": {
    "collapsed": true
   },
   "outputs": [],
   "source": [
    "for line in tweets:\n",
    " \n",
    "    #writes a row and gets the fields from the json object\n",
    "    #screen_name and followers/friends are found on the second level hence two get methods\n",
    "    writer.writerow([line.get('created_at'),\n",
    "                     line.get('full_text').encode('unicode_escape'), #unicode escape to fix emoji issue\n",
    "                     line.get('user').get('screen_name'),\n",
    "                     line.get('user').get('followers_count'),\n",
    "                     line.get('user').get('favourites_count'),\n",
    "                     line.get('user').get('friends_count'),\n",
    "                     line.get('retweet_count')])\n",
    " \n",
    "csv_out.close()"
   ]
  },
  {
   "cell_type": "code",
   "execution_count": 128,
   "metadata": {
    "collapsed": true
   },
   "outputs": [],
   "source": [
    "tweets = []\n",
    "for line in open('C:\\\\Users\\\\NIRANJAN SOMASANI\\\\Downloads\\\\ThirdPresidentialDebateTweets', 'r', encoding='utf-8'):\n",
    "    tweets.append(json.loads(line))"
   ]
  },
  {
   "cell_type": "code",
   "execution_count": 129,
   "metadata": {},
   "outputs": [
    {
     "data": {
      "text/plain": [
       "56"
      ]
     },
     "execution_count": 129,
     "metadata": {},
     "output_type": "execute_result"
    }
   ],
   "source": [
    "csv_out = open('C:\\\\Users\\\\NIRANJAN SOMASANI\\\\Downloads\\\\ThirdPresidentialDebateTweets2.csv', 'w', encoding='utf-8') #opens csv file\n",
    "writer = csv.writer(csv_out) #create the csv writer object\n",
    "\n",
    "fields = ['created_at', 'text', 'screen_name', 'followers', 'Likes', 'friends', 'rt'] #field names\n",
    "writer.writerow(fields) #writes field"
   ]
  },
  {
   "cell_type": "code",
   "execution_count": 130,
   "metadata": {
    "collapsed": true
   },
   "outputs": [],
   "source": [
    "for line in tweets:\n",
    " \n",
    "    #writes a row and gets the fields from the json object\n",
    "    #screen_name and followers/friends are found on the second level hence two get methods\n",
    "    writer.writerow([line.get('created_at'),\n",
    "                     line.get('full_text').encode('unicode_escape'), #unicode escape to fix emoji issue\n",
    "                     line.get('user').get('screen_name'),\n",
    "                     line.get('user').get('followers_count'),\n",
    "                     line.get('user').get('favourites_count'),\n",
    "                     line.get('user').get('friends_count'),\n",
    "                     line.get('retweet_count')])\n",
    " \n",
    "csv_out.close()"
   ]
  },
  {
   "cell_type": "code",
   "execution_count": 131,
   "metadata": {
    "collapsed": true
   },
   "outputs": [],
   "source": [
    "first = pd.read_csv('C:\\\\Users\\\\NIRANJAN SOMASANI\\\\Downloads\\\\FirstPresidentialDebateTweets2.csv')\n",
    "second = pd.read_csv('C:\\\\Users\\\\NIRANJAN SOMASANI\\\\Downloads\\\\SecondPresidentialDebateTweets2.csv')\n",
    "third = pd.read_csv('C:\\\\Users\\\\NIRANJAN SOMASANI\\\\Downloads\\\\ThirdPresidentialDebateTweets2.csv')"
   ]
  },
  {
   "cell_type": "markdown",
   "metadata": {},
   "source": [
    "## Data Exploration\n",
    "I'll analyse each debate sorting it by time in which the tweets are put on the day of the debate to the next day. \n",
    "I want to see the tweets trend and support over the time to see how the debate influenced the support for the presidential candidates."
   ]
  },
  {
   "cell_type": "code",
   "execution_count": 132,
   "metadata": {},
   "outputs": [
    {
     "name": "stdout",
     "output_type": "stream",
     "text": [
      "<class 'pandas.core.frame.DataFrame'>\n",
      "RangeIndex: 46112 entries, 0 to 46111\n",
      "Data columns (total 7 columns):\n",
      "created_at     46112 non-null object\n",
      "text           46112 non-null object\n",
      "screen_name    46112 non-null object\n",
      "followers      46112 non-null int64\n",
      "Likes          46112 non-null int64\n",
      "friends        46112 non-null int64\n",
      "rt             46112 non-null int64\n",
      "dtypes: int64(4), object(3)\n",
      "memory usage: 2.5+ MB\n",
      "None\n",
      "                       created_at  \\\n",
      "0  Mon Sep 26 17:45:55 +0000 2016   \n",
      "1  Mon Sep 26 17:45:55 +0000 2016   \n",
      "2  Mon Sep 26 17:45:49 +0000 2016   \n",
      "3  Mon Sep 26 17:45:55 +0000 2016   \n",
      "4  Mon Sep 26 17:45:52 +0000 2016   \n",
      "\n",
      "                                                text     screen_name  \\\n",
      "0  b\"RT @The_Trump_Train: Social media will be fl...   Ellmers_Renee   \n",
      "1  b\"RT @somecody: Ahead of the #debates, can't e...    Single_Image   \n",
      "2  b'RT @KellyannePolls: #Polls showing @realDona...      trumpATeam   \n",
      "3  b\"RT @WotanTX: Any #debate that doesn't includ...        Zepp1978   \n",
      "4  b'RT @itele: #debatenight \\\\u25ba Peu de pr\\\\x...  Armelletricha1   \n",
      "\n",
      "   followers  Likes  friends    rt  \n",
      "0        149   3081      302   611  \n",
      "1        726  19460      768     9  \n",
      "2       8700  57515     2892  7457  \n",
      "3       2726  21792      342     1  \n",
      "4        620     72     3157    32  \n"
     ]
    }
   ],
   "source": [
    "print(first.info())\n",
    "print(first.head())"
   ]
  },
  {
   "cell_type": "code",
   "execution_count": 133,
   "metadata": {},
   "outputs": [
    {
     "name": "stdout",
     "output_type": "stream",
     "text": [
      "<class 'pandas.core.frame.DataFrame'>\n",
      "RangeIndex: 49414 entries, 0 to 49413\n",
      "Data columns (total 7 columns):\n",
      "created_at     49414 non-null object\n",
      "text           49414 non-null object\n",
      "screen_name    49414 non-null object\n",
      "followers      49414 non-null int64\n",
      "Likes          49414 non-null int64\n",
      "friends        49414 non-null int64\n",
      "rt             49414 non-null int64\n",
      "dtypes: int64(4), object(3)\n",
      "memory usage: 2.6+ MB\n",
      "None\n",
      "                       created_at  \\\n",
      "0  Fri Oct 07 01:37:55 +0000 2016   \n",
      "1  Fri Oct 07 01:37:59 +0000 2016   \n",
      "2  Fri Oct 07 01:38:03 +0000 2016   \n",
      "3  Fri Oct 07 01:37:44 +0000 2016   \n",
      "4  Fri Oct 07 01:38:05 +0000 2016   \n",
      "\n",
      "                                                text     screen_name  \\\n",
      "0  b'RT @realDonaldTrump: Thank you @SenJohnMcCai...       AnnieB117   \n",
      "1  b'RT @realDonaldTrump: Thank you Tennessee! #M...  eRaltorKristen   \n",
      "2        b'@realDonaldTrump https://t.co/qizSwzF2PO'    ToreyChayann   \n",
      "3  b'@HillaryClinton sadly you are inspired by pe...       freeRguns   \n",
      "4  b\"RT @realDonaldTrump: 'Donald Trump: A Presid...  _OldManMarley_   \n",
      "\n",
      "   followers  Likes  friends     rt  \n",
      "0       1099  18923     1421  10002  \n",
      "1         19   1846      733  10262  \n",
      "2       1301  12757      936      0  \n",
      "3        222   1801      392      0  \n",
      "4       4814  22860     5164  10265  \n"
     ]
    }
   ],
   "source": [
    "print(second.info())\n",
    "print(second.head())"
   ]
  },
  {
   "cell_type": "code",
   "execution_count": 134,
   "metadata": {},
   "outputs": [
    {
     "name": "stdout",
     "output_type": "stream",
     "text": [
      "<class 'pandas.core.frame.DataFrame'>\n",
      "RangeIndex: 42128 entries, 0 to 42127\n",
      "Data columns (total 7 columns):\n",
      "created_at     42128 non-null object\n",
      "text           42128 non-null object\n",
      "screen_name    42128 non-null object\n",
      "followers      42128 non-null int64\n",
      "Likes          42128 non-null int64\n",
      "friends        42128 non-null int64\n",
      "rt             42128 non-null int64\n",
      "dtypes: int64(4), object(3)\n",
      "memory usage: 2.2+ MB\n",
      "None\n",
      "                       created_at  \\\n",
      "0  Wed Oct 19 11:17:51 +0000 2016   \n",
      "1  Wed Oct 19 11:17:34 +0000 2016   \n",
      "2  Wed Oct 19 11:17:47 +0000 2016   \n",
      "3  Wed Oct 19 11:17:43 +0000 2016   \n",
      "4  Wed Oct 19 11:17:31 +0000 2016   \n",
      "\n",
      "                                                text    screen_name  \\\n",
      "0  b\"@realDonaldTrump and your relationship with ...  crazysadie_92   \n",
      "1  b'RT @realDonaldTrump: Hillary is the most cor...        GREG_TZ   \n",
      "2  b'RT @FrenchForTrump: #ChrisWallace\\\\nA DC ELI...        ambjul5   \n",
      "3  b'RT @girlsreallyrule: Obama to Trump: \"Stop w...    MrGoonzilla   \n",
      "4  b\"@realDonaldTrump Naah Donald, don't fret, yo...      edavid542   \n",
      "\n",
      "   followers  Likes  friends     rt  \n",
      "0        591  13281     1914      0  \n",
      "1        429  10110     1047  24347  \n",
      "2       1463  20848     1662   2834  \n",
      "3         33   5962      191   1467  \n",
      "4          2     86       19      0  \n"
     ]
    }
   ],
   "source": [
    "print(third.info())\n",
    "print(third.head())"
   ]
  },
  {
   "cell_type": "code",
   "execution_count": 135,
   "metadata": {},
   "outputs": [
    {
     "name": "stdout",
     "output_type": "stream",
     "text": [
      "created_at     False\n",
      "text           False\n",
      "screen_name    False\n",
      "followers      False\n",
      "Likes          False\n",
      "friends        False\n",
      "rt             False\n",
      "dtype: bool\n",
      "created_at     False\n",
      "text           False\n",
      "screen_name    False\n",
      "followers      False\n",
      "Likes          False\n",
      "friends        False\n",
      "rt             False\n",
      "dtype: bool\n",
      "created_at     False\n",
      "text           False\n",
      "screen_name    False\n",
      "followers      False\n",
      "Likes          False\n",
      "friends        False\n",
      "rt             False\n",
      "dtype: bool\n"
     ]
    }
   ],
   "source": [
    "print(first.isnull().any())\n",
    "print(second.isnull().any())\n",
    "print(third.isnull().any())"
   ]
  },
  {
   "cell_type": "code",
   "execution_count": 95,
   "metadata": {},
   "outputs": [
    {
     "data": {
      "text/plain": [
       "249"
      ]
     },
     "execution_count": 95,
     "metadata": {},
     "output_type": "execute_result"
    }
   ],
   "source": [
    "#first.head()\n",
    "#first[first['screen_name'] == 'TomHall']\n",
    "#first['screen_name'].value_counts().sort_values(ascending = False)\n",
    "#highest_num_of_tweets = np.max(data['account_name'].value_counts().sort_values(ascending = False))\n",
    "#highest_num_of_tweets"
   ]
  },
  {
   "cell_type": "markdown",
   "metadata": {},
   "source": [
    "First, we'll analyse First Debate tweets dataset similar analysis would be applicable for second, third debates tweets."
   ]
  },
  {
   "cell_type": "code",
   "execution_count": 136,
   "metadata": {},
   "outputs": [
    {
     "name": "stdout",
     "output_type": "stream",
     "text": [
      "created_at     46112\n",
      "text           46112\n",
      "screen_name    46112\n",
      "followers      46112\n",
      "Likes          46112\n",
      "friends        46112\n",
      "rt             46112\n",
      "dtype: int64\n",
      "created_at     46038\n",
      "text           46038\n",
      "screen_name    46038\n",
      "followers      46038\n",
      "Likes          46038\n",
      "friends        46038\n",
      "rt             46038\n",
      "dtype: int64\n"
     ]
    }
   ],
   "source": [
    "#removing duplicate records and copying into another DF which we'll work on going forward\n",
    "tweets_DF = first.copy(deep = True)\n",
    "tweets_DF = tweets_DF.drop_duplicates()\n",
    "print(first.count())\n",
    "print(tweets_DF.count())"
   ]
  },
  {
   "cell_type": "code",
   "execution_count": 137,
   "metadata": {},
   "outputs": [
    {
     "data": {
      "text/plain": [
       "array([['Mon Sep 26 17:45:55 +0000 2016',\n",
       "        'b\"RT @The_Trump_Train: Social media will be flooded with lies from the MSM &amp; Crooked Hillary\\'s surrogates. It\\'s crucial we tweet &amp; retweet ea\\\\\\\\u2026\"',\n",
       "        'Ellmers_Renee', 149, 3081, 302, 611],\n",
       "       ['Mon Sep 26 17:45:55 +0000 2016',\n",
       "        'b\"RT @somecody: Ahead of the #debates, can\\'t even open up the Facebook Trending science and tech tab because there\\'s nothing there. \\\\\\\\n\\\\\\\\nThat\\'s\\\\\\\\u2026\"',\n",
       "        'Single_Image', 726, 19460, 768, 9],\n",
       "       ['Mon Sep 26 17:45:49 +0000 2016',\n",
       "        \"b'RT @KellyannePolls: #Polls showing @realDonaldTrump surging, @hillaryclinton #slipping, have HER camp on defense/lowering expectations, goi\\\\\\\\u2026'\",\n",
       "        'trumpATeam', 8700, 57515, 2892, 7457],\n",
       "       ['Mon Sep 26 17:45:55 +0000 2016',\n",
       "        'b\"RT @WotanTX: Any #debate that doesn\\'t include @GovGaryJohnson is a sham. #debatenight  #Debates2016  #DebateDay  #fb\"',\n",
       "        'Zepp1978', 2726, 21792, 342, 1],\n",
       "       ['Mon Sep 26 17:45:52 +0000 2016',\n",
       "        \"b'RT @itele: #debatenight \\\\\\\\u25ba Peu de pr\\\\\\\\xe9paration pour Donald Trump, \\\\\\\\xe0 quelques heures du d\\\\\\\\xe9bat entre les deux candidats \\\\\\\\xe0 la Maison Blanche htt\\\\\\\\u2026'\",\n",
       "        'Armelletricha1', 620, 72, 3157, 32]], dtype=object)"
      ]
     },
     "execution_count": 137,
     "metadata": {},
     "output_type": "execute_result"
    }
   ],
   "source": [
    "tweets_DF.head()\n",
    "tweets_array = np.array(tweets_DF)\n",
    "tweets_array[:5]"
   ]
  },
  {
   "cell_type": "markdown",
   "metadata": {},
   "source": [
    "## Feature Engineering and Basic Analysis"
   ]
  },
  {
   "cell_type": "code",
   "execution_count": 149,
   "metadata": {},
   "outputs": [
    {
     "data": {
      "text/html": [
       "<div>\n",
       "<style>\n",
       "    .dataframe thead tr:only-child th {\n",
       "        text-align: right;\n",
       "    }\n",
       "\n",
       "    .dataframe thead th {\n",
       "        text-align: left;\n",
       "    }\n",
       "\n",
       "    .dataframe tbody tr th {\n",
       "        vertical-align: top;\n",
       "    }\n",
       "</style>\n",
       "<table border=\"1\" class=\"dataframe\">\n",
       "  <thead>\n",
       "    <tr style=\"text-align: right;\">\n",
       "      <th></th>\n",
       "      <th>text</th>\n",
       "      <th>Date</th>\n",
       "      <th>len</th>\n",
       "      <th>account_name</th>\n",
       "      <th>Followers</th>\n",
       "      <th>Likes</th>\n",
       "      <th>Friends</th>\n",
       "      <th>RTs</th>\n",
       "    </tr>\n",
       "  </thead>\n",
       "  <tbody>\n",
       "    <tr>\n",
       "      <th>0</th>\n",
       "      <td>b\"RT @The_Trump_Train: Social media will be fl...</td>\n",
       "      <td>2016-09-26 17:45:55</td>\n",
       "      <td>157</td>\n",
       "      <td>Ellmers_Renee</td>\n",
       "      <td>149</td>\n",
       "      <td>3081</td>\n",
       "      <td>302</td>\n",
       "      <td>611</td>\n",
       "    </tr>\n",
       "    <tr>\n",
       "      <th>1</th>\n",
       "      <td>b\"RT @somecody: Ahead of the #debates, can't e...</td>\n",
       "      <td>2016-09-26 17:45:55</td>\n",
       "      <td>152</td>\n",
       "      <td>Single_Image</td>\n",
       "      <td>726</td>\n",
       "      <td>19460</td>\n",
       "      <td>768</td>\n",
       "      <td>9</td>\n",
       "    </tr>\n",
       "    <tr>\n",
       "      <th>2</th>\n",
       "      <td>b'RT @KellyannePolls: #Polls showing @realDona...</td>\n",
       "      <td>2016-09-26 17:45:49</td>\n",
       "      <td>149</td>\n",
       "      <td>trumpATeam</td>\n",
       "      <td>8700</td>\n",
       "      <td>57515</td>\n",
       "      <td>2892</td>\n",
       "      <td>7457</td>\n",
       "    </tr>\n",
       "    <tr>\n",
       "      <th>3</th>\n",
       "      <td>b\"RT @WotanTX: Any #debate that doesn't includ...</td>\n",
       "      <td>2016-09-26 17:45:55</td>\n",
       "      <td>119</td>\n",
       "      <td>Zepp1978</td>\n",
       "      <td>2726</td>\n",
       "      <td>21792</td>\n",
       "      <td>342</td>\n",
       "      <td>1</td>\n",
       "    </tr>\n",
       "    <tr>\n",
       "      <th>4</th>\n",
       "      <td>b'RT @itele: #debatenight \\\\u25ba Peu de pr\\\\x...</td>\n",
       "      <td>2016-09-26 17:45:52</td>\n",
       "      <td>171</td>\n",
       "      <td>Armelletricha1</td>\n",
       "      <td>620</td>\n",
       "      <td>72</td>\n",
       "      <td>3157</td>\n",
       "      <td>32</td>\n",
       "    </tr>\n",
       "  </tbody>\n",
       "</table>\n",
       "</div>"
      ],
      "text/plain": [
       "                                                text                Date  len  \\\n",
       "0  b\"RT @The_Trump_Train: Social media will be fl... 2016-09-26 17:45:55  157   \n",
       "1  b\"RT @somecody: Ahead of the #debates, can't e... 2016-09-26 17:45:55  152   \n",
       "2  b'RT @KellyannePolls: #Polls showing @realDona... 2016-09-26 17:45:49  149   \n",
       "3  b\"RT @WotanTX: Any #debate that doesn't includ... 2016-09-26 17:45:55  119   \n",
       "4  b'RT @itele: #debatenight \\\\u25ba Peu de pr\\\\x... 2016-09-26 17:45:52  171   \n",
       "\n",
       "     account_name  Followers  Likes  Friends   RTs  \n",
       "0   Ellmers_Renee        149   3081      302   611  \n",
       "1    Single_Image        726  19460      768     9  \n",
       "2      trumpATeam       8700  57515     2892  7457  \n",
       "3        Zepp1978       2726  21792      342     1  \n",
       "4  Armelletricha1        620     72     3157    32  "
      ]
     },
     "execution_count": 149,
     "metadata": {},
     "output_type": "execute_result"
    }
   ],
   "source": [
    "# creating a dataframe of our own with the required columns for the analysis\n",
    "data = pd.DataFrame(data=[tweet[1] for tweet in tweets_array], columns=['text'])\n",
    "data['Date'] = np.array([tweet[0] for tweet in tweets_array])\n",
    "data['len']  = np.array([len(tweet[1]) for tweet in tweets_array])\n",
    "data['account_name']  = np.array([tweet[2] for tweet in tweets_array])\n",
    "data['Followers'] = np.array([tweet[3] for tweet in tweets_array])\n",
    "data['Likes']  = np.array([tweet[4] for tweet in tweets_array])\n",
    "data['Friends']  = np.array([tweet[5] for tweet in tweets_array])\n",
    "data['RTs']    = np.array([tweet[6] for tweet in tweets_array])\n",
    "data['Date'] = pd.to_datetime(data['Date'])\n",
    "data.head()"
   ]
  },
  {
   "cell_type": "code",
   "execution_count": 150,
   "metadata": {},
   "outputs": [
    {
     "data": {
      "text/plain": [
       "130.25135757417786"
      ]
     },
     "execution_count": 150,
     "metadata": {},
     "output_type": "execute_result"
    }
   ],
   "source": [
    "#let's see the mean length of all the tweets\n",
    "mean_length = np.mean(data['len'])\n",
    "mean_length"
   ]
  },
  {
   "cell_type": "code",
   "execution_count": 151,
   "metadata": {},
   "outputs": [
    {
     "name": "stdout",
     "output_type": "stream",
     "text": [
      "The tweet with more retweets is: \n",
      "b'RT @HillaryClinton: Delete your account. https://t.co/Oa92sncRQY'\n",
      "Number of retweets: 547373\n",
      "67 characters\n",
      "tweet done by nolivossanto. \n",
      "\n",
      "The tweet with more likes is: \n",
      "b\"Don't forget to print out your #debatenight Bingo cards for tonight! #debatenightdrinkinggame #games #Debates2016 #Debates https://t.co/gY4yKZ4jIq\"\n",
      "Number of likes: 1525970\n",
      "149 characters\n",
      "tweet done by David_Leavitt. \n",
      "\n",
      "The account with max friends is: \n",
      "TomHall\n",
      "Number of friends: 502338\n",
      "\n",
      "The account with max followers is: \n",
      "HillaryClinton\n",
      "Number of followers: 22977705\n",
      "\n",
      "The account with highest # of tweets: \n",
      "addykateglen\n",
      "Number of tweets: 249\n",
      "\n"
     ]
    }
   ],
   "source": [
    "#let's see the tweets that has most retweets\n",
    "Rt_max  = np.max(data['RTs'])\n",
    "rt  = data[data.RTs == Rt_max].index[0]\n",
    "\n",
    "Like_max  = np.max(data['Likes'])\n",
    "like = data[data.Likes == Like_max].index[0]\n",
    "\n",
    "friends_max  = np.max(data['Friends'])\n",
    "friends  = data[data.Friends == friends_max].index[0]\n",
    "\n",
    "Followers_max  = np.max(data['Followers'])\n",
    "followers  = data[data.Followers == Followers_max].index[0]\n",
    "\n",
    "highest_num_of_tweets = np.max(data['account_name'].value_counts().sort_values(ascending = False))\n",
    "\n",
    "# Max RTs:\n",
    "print(\"The tweet with more retweets is: \\n{}\".format(data['text'][rt]))\n",
    "print(\"Number of retweets: {}\".format(Rt_max))\n",
    "print(\"{} characters\".format(data['len'][rt]))\n",
    "print(\"tweet done by {}. \\n\".format(data['account_name'][rt]))\n",
    "\n",
    "# Max RTs:\n",
    "print(\"The tweet with more likes is: \\n{}\".format(data['text'][like]))\n",
    "print(\"Number of likes: {}\".format(Like_max))\n",
    "print(\"{} characters\".format(data['len'][like]))\n",
    "print(\"tweet done by {}. \\n\".format(data['account_name'][like]))\n",
    "\n",
    "# Max Friends:\n",
    "print(\"The account with max friends is: \\n{}\".format(data['account_name'][friends]))\n",
    "print(\"Number of friends: {}\\n\".format(friends_max))\n",
    "\n",
    "# Max Followers:\n",
    "print(\"The account with max followers is: \\n{}\".format(data['account_name'][followers]))\n",
    "print(\"Number of followers: {}\\n\".format(Followers_max))\n",
    "\n",
    "# Highest # of tweets:\n",
    "print(\"The account with highest # of tweets: \\n{}\".format(data['account_name'][highest_num_of_tweets]))\n",
    "print(\"Number of tweets: {}\\n\".format(highest_num_of_tweets))"
   ]
  },
  {
   "cell_type": "markdown",
   "metadata": {},
   "source": [
    "From above we've got some very interesting findings such as:\n",
    "1. Hillary Clinton has the highest # of followers \n",
    "2. Tweet that has got highest retweets is against Hillary\n",
    "though this may not be correct as we need to consider good chunk of data to come up a conclusion but interesting for now."
   ]
  },
  {
   "cell_type": "markdown",
   "metadata": {},
   "source": [
    "## Time Series Analysis\n",
    "Now we'll see the trend of tweets over time."
   ]
  },
  {
   "cell_type": "code",
   "execution_count": 157,
   "metadata": {},
   "outputs": [
    {
     "name": "stdout",
     "output_type": "stream",
     "text": [
      "2016-09-26 18:43:59\n",
      "2016-09-26 17:45:49\n"
     ]
    }
   ],
   "source": [
    "max_date = np.max(data['Date'])\n",
    "min_date = np.min(data['Date'])\n",
    "print(max_date)\n",
    "print(min_date)"
   ]
  },
  {
   "cell_type": "markdown",
   "metadata": {},
   "source": [
    "We can see above that the time is very minute like 75 mins range. This could be a constraint to come upto a conclusion of the analysis.\n",
    "But as said earlier my goal is to write down how we can analyse data rather than conclusions, you can download whole data and apply the steps we're doing here."
   ]
  },
  {
   "cell_type": "code",
   "execution_count": 152,
   "metadata": {
    "collapsed": true
   },
   "outputs": [],
   "source": [
    "# We create time series for data:\n",
    "\n",
    "tlen = pd.Series(data=data['len'].values, index=data['Date'])\n",
    "tfav = pd.Series(data=data['Likes'].values, index=data['Date'])\n",
    "tret = pd.Series(data=data['RTs'].values, index=data['Date'])"
   ]
  },
  {
   "cell_type": "code",
   "execution_count": 159,
   "metadata": {},
   "outputs": [
    {
     "data": {
      "text/plain": [
       "<matplotlib.axes._subplots.AxesSubplot at 0x1de5ca827b8>"
      ]
     },
     "execution_count": 159,
     "metadata": {},
     "output_type": "execute_result"
    },
    {
     "data": {
      "image/png": "[encoded data removed]",
      "text/plain": [
       "<matplotlib.figure.Figure at 0x1de5c4a6710>"
      ]
     },
     "metadata": {},
     "output_type": "display_data"
    }
   ],
   "source": [
    "# Visualizing the above created length variable over time:\n",
    "tlen.plot(figsize=(16,4), color='r')"
   ]
  },
  {
   "cell_type": "code",
   "execution_count": 166,
   "metadata": {},
   "outputs": [
    {
     "data": {
      "image/png": "[encoded data removed]",
      "text/plain": [
       "<matplotlib.figure.Figure at 0x1de5c2d50f0>"
      ]
     },
     "metadata": {},
     "output_type": "display_data"
    }
   ],
   "source": [
    "# Likes vs retweets visualization:\n",
    "tfav.plot(figsize=(16,4), label=\"Likes\", legend=True)\n",
    "tret.plot(figsize=(16,4), label=\"Retweets\", legend=True);"
   ]
  },
  {
   "cell_type": "markdown",
   "metadata": {},
   "source": [
    "## Data Cleaning and Modelling"
   ]
  },
  {
   "cell_type": "code",
   "execution_count": null,
   "metadata": {
    "collapsed": true
   },
   "outputs": [],
   "source": [
    "text = data['text']#taking only the text column\n",
    "text = np.array(text)#converting object to array\n",
    "text[:5]"
   ]
  },
  {
   "cell_type": "markdown",
   "metadata": {},
   "source": [
    "We're defining functions that takes tweet and cleans it to a form that helps us identify the sentiment of the tweet by passing it to textblob inbuilt method which assigns value -1 to 1 where 1 being positive and -1 being negative.\n",
    "Later, we'll assign this to positive, negative, neutral sentiments based on the value we get out of the textblob."
   ]
  },
  {
   "cell_type": "code",
   "execution_count": null,
   "metadata": {
    "collapsed": true
   },
   "outputs": [],
   "source": [
    "import re\n",
    "import nltk\n",
    "nltk.download('stopwords')\n",
    "from nltk.corpus import stopwords\n",
    "from nltk.stem.porter import PorterStemmer\n",
    "from textblob import TextBlob\n",
    "import re\n",
    "corpus = []\n",
    "def clean_tweet(tweet):\n",
    "    tweet = ' '.join(re.sub(\"(@[A-Za-z0-9]+)|([^0-9A-Za-z \\t])|(\\w+:\\/\\/\\S+)\", \" \", tweet).split()) #removing uneccesary items like \n",
    "    #numbers, special characters that won't help us in predicting the sentiment of the tweet\n",
    "    tweet = review.lower()#making all the alphabets lower case\n",
    "    tweet = review.split()#splitting the word sentence into array of words to remove certain stopwords\n",
    "    ps = PorterStemmer()\n",
    "    tweet = [ps.stem(word) for word in tweet if not word in set(stopwords.words('english'))]#removing stopwords in english language\n",
    "    clean_tweet = ' '.join(tweet)#joining the array of words back to form a cleaned tweet\n",
    "    return clean_tweet\n",
    "\n",
    "def analize_sentiment(tweet):#This function is to assign the sentiment to a tweet, textblob helps us do this with a simple method\n",
    "    \n",
    "    analysis = TextBlob(clean_tweet(tweet))\n",
    "    if analysis.sentiment.polarity > 0:\n",
    "        return 'positive'\n",
    "    elif analysis.sentiment.polarity == 0:\n",
    "        return 'neutral'\n",
    "    else:\n",
    "        return 'negative'"
   ]
  },
  {
   "cell_type": "code",
   "execution_count": null,
   "metadata": {
    "collapsed": true
   },
   "outputs": [],
   "source": [
    "# Creating a column for the sentiment of the corresponding tweet\n",
    "data['Sentiment'] = np.array([ analize_sentiment(tweet) for tweet in text ])"
   ]
  },
  {
   "cell_type": "code",
   "execution_count": null,
   "metadata": {
    "collapsed": true
   },
   "outputs": [],
   "source": [
    "# we can have the classification of positive, negative, neutral tweets as mentioned earlier and the percentage of each\n",
    "    ptweets = [tweet for tweet in text if data['Sentiment'] == 'positive']\n",
    "    ntweets = [tweet for tweet in text if data['Sentiment'] == 'negative']\n",
    "    neutraltweets = [tweet for tweet in text if data['Sentiment'] == 'neutral']\n",
    "\n",
    "    print(\"Percentage of positive tweets: {}%\".format(len(ptweets)*100/len(text)))\n",
    "    print(\"Percentage of neutral tweets: {}%\".format(len(ntweets)*100/len(text)))\n",
    "    print(\"Percentage de negative tweets: {}%\".format(len(neutraltweets)*100/len(text)))"
   ]
  },
  {
   "cell_type": "markdown",
   "metadata": {},
   "source": [
    "Above analysis gives us a quick overview of the columns available and sentiment related to each tweet. Now, as the data source contains tweets during each of the presidential elections, I want to see how the sentiment of the people was with respect to Trump, Hillary by calculating sentiment of the tweets that mentioned only trump, only hillary, trump or hillary in the tweet. This'll give us some evidence of the people's view w.r.t to that candidate during each debate."
   ]
  },
  {
   "cell_type": "markdown",
   "metadata": {},
   "source": [
    "## Analysis specific to each candidate"
   ]
  },
  {
   "cell_type": "markdown",
   "metadata": {},
   "source": [
    "To be more sure that we're extracting the correct tweet repective to each candidate I've created a sample array that contains tweet specific to each of the candidate and see the result after applying the regex."
   ]
  },
  {
   "cell_type": "code",
   "execution_count": 277,
   "metadata": {
    "collapsed": true
   },
   "outputs": [],
   "source": [
    "#took a sample of three tweets which contain only hillary, only trump and (trump and hillary) to see the behaviour of the next regex statements (as it's not possible to check if it's working properly with the whole list)\n",
    "x = [\"b'RT @itele : #debatenight \\\\ \\\\ u25ba Peu de pr \\\\ \\\\ xe9paration pour Donald Trump , \\\\ \\\\ xe0 quelques heures du d \\\\ \\\\ xe9bat entre les deux candidats \\\\ \\\\ xe0 la Maison Blanche htt \\\\ \\\\ u2026 '\",'b \" RT @The_Trump_Train : Social media will be flooded with lies from the MSM & amp ; Crooked Hillary\\'s surrogates . It\\'s crucial we tweet & amp ; retweet ea \\\\ \\\\ u2026 \"', 'b \" RT @HillaryClinton : Everything you need to know before watching tonight\\'s debate : https://t.co/Z4gcpSDfZa https://t.co/bymTtB2Et7 \"']"
   ]
  },
  {
   "cell_type": "code",
   "execution_count": 279,
   "metadata": {},
   "outputs": [
    {
     "name": "stdout",
     "output_type": "stream",
     "text": [
      "2\n",
      "[\"b'RT @itele : #debatenight \\\\ \\\\ u25ba Peu de pr \\\\ \\\\ xe9paration pour Donald Trump , \\\\ \\\\ xe0 quelques heures du d \\\\ \\\\ xe9bat entre les deux candidats \\\\ \\\\ xe0 la Maison Blanche htt \\\\ \\\\ u2026 '\", 'b \" RT @The_Trump_Train : Social media will be flooded with lies from the MSM & amp ; Crooked Hillary\\'s surrogates . It\\'s crucial we tweet & amp ; retweet ea \\\\ \\\\ u2026 \"']\n"
     ]
    }
   ],
   "source": [
    "#tweets that contain trump\n",
    "r = re.compile(\".*trump\", re.M|re.I|re.IGNORECASE)\n",
    "trumptweets = list(filter(r.match, x))\n",
    "print(len(trumptweets))\n",
    "print(trumptweets[:3])"
   ]
  },
  {
   "cell_type": "code",
   "execution_count": 280,
   "metadata": {},
   "outputs": [
    {
     "name": "stdout",
     "output_type": "stream",
     "text": [
      "2\n",
      "['b \" RT @The_Trump_Train : Social media will be flooded with lies from the MSM & amp ; Crooked Hillary\\'s surrogates . It\\'s crucial we tweet & amp ; retweet ea \\\\ \\\\ u2026 \"', 'b \" RT @HillaryClinton : Everything you need to know before watching tonight\\'s debate : https://t.co/Z4gcpSDfZa https://t.co/bymTtB2Et7 \"']\n"
     ]
    }
   ],
   "source": [
    "#tweets that contain hillary\n",
    "r = re.compile(\".*hillary\", re.M|re.I|re.IGNORECASE)\n",
    "hillarytweets = list(filter(r.match, x))\n",
    "print(len(hillarytweets))\n",
    "print(hillarytweets[:3])"
   ]
  },
  {
   "cell_type": "code",
   "execution_count": 282,
   "metadata": {},
   "outputs": [
    {
     "name": "stdout",
     "output_type": "stream",
     "text": [
      "1\n",
      "['b \" RT @HillaryClinton : Everything you need to know before watching tonight\\'s debate : https://t.co/Z4gcpSDfZa https://t.co/bymTtB2Et7 \"']\n"
     ]
    }
   ],
   "source": [
    "#tweets that contain hillary but not trump\n",
    "r = re.compile('^(?!.*trump).*hillary.*$', re.M|re.I|re.IGNORECASE)\n",
    "onlyhillarytweets = list(filter(r.match, x))\n",
    "print(len(onlyhillarytweets))\n",
    "print(onlyhillarytweets[:3])"
   ]
  },
  {
   "cell_type": "code",
   "execution_count": 284,
   "metadata": {},
   "outputs": [
    {
     "name": "stdout",
     "output_type": "stream",
     "text": [
      "1\n",
      "[\"b'RT @itele : #debatenight \\\\ \\\\ u25ba Peu de pr \\\\ \\\\ xe9paration pour Donald Trump , \\\\ \\\\ xe0 quelques heures du d \\\\ \\\\ xe9bat entre les deux candidats \\\\ \\\\ xe0 la Maison Blanche htt \\\\ \\\\ u2026 '\"]\n"
     ]
    }
   ],
   "source": [
    "#tweets that contain trump but not hillary\n",
    "r = re.compile('^(?!.*hillary).*trump.*$', re.M|re.I|re.IGNORECASE)\n",
    "onlytrumptweets = list(filter(r.match, x))\n",
    "print(len(onlytrumptweets))\n",
    "print(onlytrumptweets[:3])"
   ]
  },
  {
   "cell_type": "markdown",
   "metadata": {},
   "source": [
    "From above we can conclude that the regex statements are working properly."
   ]
  },
  {
   "cell_type": "markdown",
   "metadata": {
    "collapsed": true
   },
   "source": [
    "## Further Analysis\n",
    "We can create the above dataframes with the whole data similarly by replacing 'x' with the 'text' and calculate the sentiment for each candidate and the number of positive, negative, neutral tweets to generalize the sentiment of each debate by passing the corresponding debate dataset. As we've over 3 million records for each debate if you could import all of them we can also see the trend of the sentiment over time that's before the debate, during and after debate to say if that debate is a plus or minus for a particular candidate."
   ]
  }
 ],
 "metadata": {
  "kernelspec": {
   "display_name": "Python 3",
   "language": "python",
   "name": "python3"
  },
  "language_info": {
   "codemirror_mode": {
    "name": "ipython",
    "version": 3
   },
   "file_extension": ".py",
   "mimetype": "text/x-python",
   "name": "python",
   "nbconvert_exporter": "python",
   "pygments_lexer": "ipython3",
   "version": "3.6.2"
  }
 },
 "nbformat": 4,
 "nbformat_minor": 2
}
